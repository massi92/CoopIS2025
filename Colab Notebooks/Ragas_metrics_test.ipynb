{
  "cells": [
    {
      "cell_type": "code",
      "execution_count": null,
      "id": "d2c60ff9",
      "metadata": {
        "id": "d2c60ff9"
      },
      "outputs": [],
      "source": [
        "!pip3.13 install ragas --break-system-packages"
      ]
    },
    {
      "cell_type": "code",
      "execution_count": null,
      "id": "10d5ee12",
      "metadata": {
        "id": "10d5ee12"
      },
      "outputs": [],
      "source": [
        "from ragas.metrics import LLMContextRecall, Faithfulness, FactualCorrectness\n",
        "from langchain_ollama.llms import OllamaLLM\n",
        "from ragas.llms import LangchainLLMWrapper"
      ]
    },
    {
      "cell_type": "code",
      "execution_count": null,
      "id": "0c25140d",
      "metadata": {
        "id": "0c25140d"
      },
      "outputs": [],
      "source": [
        "import pandas as pd"
      ]
    },
    {
      "cell_type": "code",
      "execution_count": null,
      "id": "190c1a07",
      "metadata": {
        "id": "190c1a07"
      },
      "outputs": [],
      "source": [
        "from ragas import SingleTurnSample, EvaluationDataset, evaluate"
      ]
    },
    {
      "cell_type": "code",
      "execution_count": null,
      "id": "98e1fee4",
      "metadata": {
        "id": "98e1fee4"
      },
      "outputs": [],
      "source": [
        "from ragas.run_config import RunConfig"
      ]
    },
    {
      "cell_type": "code",
      "execution_count": null,
      "id": "4379f37f",
      "metadata": {
        "id": "4379f37f"
      },
      "outputs": [],
      "source": [
        "csv_df = pd.read_csv('/Users/user/Files/DatasetD_eval.csv', sep=';').dropna()"
      ]
    },
    {
      "cell_type": "code",
      "execution_count": null,
      "id": "d0f625a1",
      "metadata": {
        "id": "d0f625a1",
        "outputId": "82154301-9111-49b0-b7bb-7e20c29b5caa"
      },
      "outputs": [
        {
          "data": {
            "text/html": [
              "<div>\n",
              "<style scoped>\n",
              "    .dataframe tbody tr th:only-of-type {\n",
              "        vertical-align: middle;\n",
              "    }\n",
              "\n",
              "    .dataframe tbody tr th {\n",
              "        vertical-align: top;\n",
              "    }\n",
              "\n",
              "    .dataframe thead th {\n",
              "        text-align: right;\n",
              "    }\n",
              "</style>\n",
              "<table border=\"1\" class=\"dataframe\">\n",
              "  <thead>\n",
              "    <tr style=\"text-align: right;\">\n",
              "      <th></th>\n",
              "      <th>Question/Prompt</th>\n",
              "      <th>Ground Truth</th>\n",
              "      <th>Contexts</th>\n",
              "      <th>Answer</th>\n",
              "    </tr>\n",
              "  </thead>\n",
              "  <tbody>\n",
              "    <tr>\n",
              "      <th>0</th>\n",
              "      <td>Suggest me a Collect service for reading the\\n...</td>\n",
              "      <td>CSV data retrieval</td>\n",
              "      <td>[Document(metadata={'source': '/Users/massimil...</td>\n",
              "      <td>Based on the provided context, you can use the...</td>\n",
              "    </tr>\n",
              "    <tr>\n",
              "      <th>1</th>\n",
              "      <td>Suggest me a Monitor service for training a\\nm...</td>\n",
              "      <td>Multiple Linear Regression Service</td>\n",
              "      <td>{\\n  \"openapi\": \"3.0.0\",\\n  \"info\": {\\n    \"ti...</td>\n",
              "      <td>Based on your requirements, here's a suggested...</td>\n",
              "    </tr>\n",
              "    <tr>\n",
              "      <th>2</th>\n",
              "      <td>Suggest me a Collect service for reading the c...</td>\n",
              "      <td>CSV data retrieval</td>\n",
              "      <td>{\\n  \"openapi\": \"3.1.0\",\\n  \"info\": {\\n    \"ti...</td>\n",
              "      <td>Based on the provided context, you can use the...</td>\n",
              "    </tr>\n",
              "    <tr>\n",
              "      <th>3</th>\n",
              "      <td>Suggest me a Dispatch service for applying ano...</td>\n",
              "      <td>Pandas DataFrame Anonymization Service</td>\n",
              "      <td>{\\n  \"openapi\": \"3.0.0\",\\n  \"info\": {\\n    \"ti...</td>\n",
              "      <td>Based on the provided context, you can use the...</td>\n",
              "    </tr>\n",
              "  </tbody>\n",
              "</table>\n",
              "</div>"
            ],
            "text/plain": [
              "                                     Question/Prompt  \\\n",
              "0  Suggest me a Collect service for reading the\\n...   \n",
              "1  Suggest me a Monitor service for training a\\nm...   \n",
              "2  Suggest me a Collect service for reading the c...   \n",
              "3  Suggest me a Dispatch service for applying ano...   \n",
              "\n",
              "                             Ground Truth  \\\n",
              "0                      CSV data retrieval   \n",
              "1      Multiple Linear Regression Service   \n",
              "2                      CSV data retrieval   \n",
              "3  Pandas DataFrame Anonymization Service   \n",
              "\n",
              "                                            Contexts  \\\n",
              "0  [Document(metadata={'source': '/Users/massimil...   \n",
              "1  {\\n  \"openapi\": \"3.0.0\",\\n  \"info\": {\\n    \"ti...   \n",
              "2  {\\n  \"openapi\": \"3.1.0\",\\n  \"info\": {\\n    \"ti...   \n",
              "3  {\\n  \"openapi\": \"3.0.0\",\\n  \"info\": {\\n    \"ti...   \n",
              "\n",
              "                                              Answer  \n",
              "0  Based on the provided context, you can use the...  \n",
              "1  Based on your requirements, here's a suggested...  \n",
              "2  Based on the provided context, you can use the...  \n",
              "3  Based on the provided context, you can use the...  "
            ]
          },
          "execution_count": 11,
          "metadata": {},
          "output_type": "execute_result"
        }
      ],
      "source": [
        "csv_df"
      ]
    },
    {
      "cell_type": "code",
      "execution_count": null,
      "id": "9e86a635",
      "metadata": {
        "id": "9e86a635"
      },
      "outputs": [],
      "source": [
        "evaluation_samples = []"
      ]
    },
    {
      "cell_type": "code",
      "execution_count": null,
      "id": "62ae7953",
      "metadata": {
        "id": "62ae7953"
      },
      "outputs": [],
      "source": [
        "#EXAMPLES and DATASET\n",
        "for index, row in csv_df.iterrows():\n",
        "    sample_ith = SingleTurnSample(\n",
        "        user_input=row['Question/Prompt'],\n",
        "        retrieved_contexts=[row['Contexts']],\n",
        "        response=row['Answer'],\n",
        "        reference=row['Ground Truth'],\n",
        "    )\n",
        "\n",
        "    evaluation_samples.append(sample_ith)"
      ]
    },
    {
      "cell_type": "code",
      "execution_count": null,
      "id": "edbf91f8",
      "metadata": {
        "id": "edbf91f8"
      },
      "outputs": [],
      "source": [
        "eval_dataset = EvaluationDataset(samples=evaluation_samples)"
      ]
    },
    {
      "cell_type": "code",
      "execution_count": null,
      "id": "07856cce",
      "metadata": {
        "id": "07856cce"
      },
      "outputs": [],
      "source": [
        "eval_dataset"
      ]
    },
    {
      "cell_type": "code",
      "execution_count": null,
      "id": "6d624343",
      "metadata": {
        "id": "6d624343"
      },
      "outputs": [],
      "source": [
        "#run_config = RunConfig(timeout=120)  # Set timeout to 60 seconds"
      ]
    },
    {
      "cell_type": "code",
      "execution_count": null,
      "id": "5ca4927f",
      "metadata": {
        "id": "5ca4927f"
      },
      "outputs": [],
      "source": [
        "evaluator_llm = LangchainLLMWrapper(OllamaLLM(model=\"granite3-dense:8b\", temperature=0.0))\n",
        "metrics = [Faithfulness(), FactualCorrectness()]"
      ]
    },
    {
      "cell_type": "code",
      "execution_count": null,
      "id": "1ed3db2b",
      "metadata": {
        "id": "1ed3db2b"
      },
      "outputs": [],
      "source": [
        "results = evaluate(dataset=eval_dataset, metrics=metrics, llm=evaluator_llm, raise_exceptions=False)"
      ]
    },
    {
      "cell_type": "code",
      "execution_count": null,
      "id": "f02e28fa",
      "metadata": {
        "id": "f02e28fa"
      },
      "outputs": [],
      "source": [
        "results.to_pandas()"
      ]
    },
    {
      "cell_type": "code",
      "execution_count": null,
      "id": "26a11c16",
      "metadata": {
        "id": "26a11c16"
      },
      "outputs": [],
      "source": []
    }
  ],
  "metadata": {
    "kernelspec": {
      "display_name": "Python 3 (ipykernel)",
      "language": "python",
      "name": "python3"
    },
    "language_info": {
      "codemirror_mode": {
        "name": "ipython",
        "version": 3
      },
      "file_extension": ".py",
      "mimetype": "text/x-python",
      "name": "python",
      "nbconvert_exporter": "python",
      "pygments_lexer": "ipython3",
      "version": "3.10.7"
    },
    "colab": {
      "provenance": []
    }
  },
  "nbformat": 4,
  "nbformat_minor": 5
}